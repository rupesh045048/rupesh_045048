{
  "nbformat": 4,
  "nbformat_minor": 0,
  "metadata": {
    "colab": {
      "provenance": [],
      "authorship_tag": "ABX9TyN3Zopa4JNBIpiICL6pbPj0",
      "include_colab_link": true
    },
    "kernelspec": {
      "name": "python3",
      "display_name": "Python 3"
    },
    "language_info": {
      "name": "python"
    }
  },
  "cells": [
    {
      "cell_type": "markdown",
      "metadata": {
        "id": "view-in-github",
        "colab_type": "text"
      },
      "source": [
        "<a href=\"https://colab.research.google.com/github/rupesh045048/rupesh_045048/blob/main/045048.ipynb\" target=\"_parent\"><img src=\"https://colab.research.google.com/assets/colab-badge.svg\" alt=\"Open In Colab\"/></a>"
      ]
    },
    {
      "cell_type": "code",
      "execution_count": 1,
      "metadata": {
        "colab": {
          "base_uri": "https://localhost:8080/"
        },
        "id": "mr02aCDEKF1X",
        "outputId": "704df295-e427-46e7-a891-854f5ce04655"
      },
      "outputs": [
        {
          "output_type": "execute_result",
          "data": {
            "text/plain": [
              "{'a': 3, 'n': 2, 'c': 1, 'o': 1, 'd': 1}"
            ]
          },
          "metadata": {},
          "execution_count": 1
        }
      ],
      "source": [
        "#Q1 UNIQUE LETTERE FREQ\n",
        "def count_unique(string) :\n",
        "    string = string.lower()\n",
        "    count = {}\n",
        "\n",
        "    for letter in string :\n",
        "        if letter.isalpha():\n",
        "            if letter in count :\n",
        "                count[letter]+=1\n",
        "            else :\n",
        "                count[letter] =1\n",
        "    unique = len(count)\n",
        "    return unique , count\n",
        "\n",
        "word = 'Anaconda'\n",
        "unique_count ,letter_frequency = count_unique(word)\n",
        "letter_frequency"
      ]
    },
    {
      "cell_type": "markdown",
      "source": [
        "string is set as attribute , then converted to lower to remove case sensitivity . An empty Count dictionart is made to store the frequencies of each letter . Then by for loop letter are checked one by one if they already are in the dict , then +1 to the freq , if not then it is added .\n",
        "## finally the word is given and the function is called ."
      ],
      "metadata": {
        "id": "vZVueRPnSYQl"
      }
    },
    {
      "cell_type": "code",
      "source": [
        "#Q2 EVALUATION SCORE\n",
        "import random as rn # random library to have random inputs\n",
        "\n",
        "def eval_score(): # evaluation score\n",
        "    class_test = rn.randint(10, 90) #generates random scores of each test\n",
        "    mid_term = rn.randint(10, 90)\n",
        "    project = rn.randint(10, 90)\n",
        "    end_term = rn.randint(10, 90)\n",
        "\n",
        "    #weights assigned as 10% = 0.1 and so on and then sum is calculated for total score\n",
        "    total_score = class_test * 0.1 + mid_term * 0.2 + project * 0.3 + end_term * 0.4\n",
        "\n",
        "    #use of round function to round off scores\n",
        "    #values assigned under each head as weighted\n",
        "    class_test_weighted = round(class_test * 0.1)\n",
        "    mid_term_weighted = round(mid_term * 0.2)\n",
        "    project_weighted = round(project * 0.3)\n",
        "    end_term_weighted = round(end_term * 0.4)\n",
        "\n",
        "    #return dictionary as output\n",
        "    return {\n",
        "        \"Class_Test\": class_test_weighted,\n",
        "        \"Mid_Term\": mid_term_weighted,\n",
        "        \"Project\": project_weighted,\n",
        "        \"End_Term\": end_term_weighted,\n",
        "        \"Total_Score\": round(total_score)\n",
        "    }\n",
        "\n",
        "evaluation_score = eval_score() #\n",
        "for component, score in evaluation_score.items(): # evaluation score\n",
        "    print(f\"{component}: {score}\")\n",
        "# printing component with the sscore"
      ],
      "metadata": {
        "colab": {
          "base_uri": "https://localhost:8080/"
        },
        "id": "KUuQR7m8TKu5",
        "outputId": "26aa1f95-8011-461d-a1f2-0c7256265b2f"
      },
      "execution_count": 7,
      "outputs": [
        {
          "output_type": "stream",
          "name": "stdout",
          "text": [
            "Class_Test: 2\n",
            "Mid_Term: 7\n",
            "Project: 22\n",
            "End_Term: 4\n",
            "Total_Score: 36\n"
          ]
        }
      ]
    },
    {
      "cell_type": "code",
      "source": [
        "#Q3 COMMON LETTER\n",
        "\n",
        "def common_letters(inp1, inp2): # inp : input 1 and 2 as strings/words\n",
        "    inp1 = inp1.lower() # convert to lower to remove case sensitiviy\n",
        "    inp2 = inp2.lower()\n",
        "\n",
        "    #conversion in to set as set only contains unique values\n",
        "    common_letters_set = set(inp1) & set(inp2)\n",
        "\n",
        "    #assigning list for the output\n",
        "    common_letters_list = list(common_letters_set)\n",
        "\n",
        "    return common_letters_list\n",
        "\n",
        "input_word1 = \"Python\"\n",
        "input_word2 = \"Anaconda\"\n",
        "\n",
        "# common letters list is stored in result variable\n",
        "result = common_letters(input_word1, input_word2)\n",
        "result\n",
        "# calling of output"
      ],
      "metadata": {
        "colab": {
          "base_uri": "https://localhost:8080/"
        },
        "id": "VYxE7gmTUzdq",
        "outputId": "c0d77958-9878-418a-cbaa-db1bce2ceec7"
      },
      "execution_count": 4,
      "outputs": [
        {
          "output_type": "execute_result",
          "data": {
            "text/plain": [
              "['n', 'o']"
            ]
          },
          "metadata": {},
          "execution_count": 4
        }
      ]
    },
    {
      "cell_type": "code",
      "source": [
        "# Q4 RANDOM SCORE AND ASSIGNING OF GRADES\n",
        "import random as rn # random library to have random inputs\n",
        "\n",
        "def grade(score):  # Checking score falls under which category of grade\n",
        "\n",
        "# use of if and elif conditions to check each category of grade\n",
        "    if score < 40:\n",
        "        return 'Grade F'\n",
        "    elif score < 60:\n",
        "        return 'Grade C'\n",
        "    elif score < 85:\n",
        "        return 'Grade B'\n",
        "    else:\n",
        "        return 'Grade A'\n",
        "\n",
        "random_score = rn.randint(0, 100)\n",
        "print(\"The Score:\", random_score)\n",
        "grade(random_score)\n"
      ],
      "metadata": {
        "colab": {
          "base_uri": "https://localhost:8080/",
          "height": 52
        },
        "id": "HdmJy4FYWCsp",
        "outputId": "5a4cbafb-955c-4b64-a772-b63e4e0badbb"
      },
      "execution_count": 8,
      "outputs": [
        {
          "output_type": "stream",
          "name": "stdout",
          "text": [
            "The Score: 62\n"
          ]
        },
        {
          "output_type": "execute_result",
          "data": {
            "text/plain": [
              "'Grade B'"
            ],
            "application/vnd.google.colaboratory.intrinsic+json": {
              "type": "string"
            }
          },
          "metadata": {},
          "execution_count": 8
        }
      ]
    },
    {
      "cell_type": "code",
      "source": [
        "#Q5 EVEN,ODD,PRIME - RANDOM NO.\n",
        "import random as  rn # random library to have random inputs\n",
        "\n",
        "def is_prime(n): #number is to passed in the function\n",
        "    if n <= 1:  # 1 is not prime\n",
        "        return False\n",
        "    if n <= 3: # 2,3 are prime nos .\n",
        "        return True\n",
        "    if n % 2 == 0 or n % 3 == 0:\n",
        "        return False\n",
        "    i = 5\n",
        "    while i * i <= n:\n",
        "        if n % i == 0 or n % (i + 2) == 0:  # checks for 6k-1 and 6k+1 test\n",
        "            return False\n",
        "        i += 6  # next potential prime no.\n",
        "\n",
        "    return True\n",
        "\n",
        "random_number = rn.randint(1, 99)  #assigning random no. in the range\n",
        "print(\"The random number:\", random_number)\n",
        "\n",
        "#range from 2 to random(say 9) range follows - 2 to 8 , hence random+1 is done\n",
        "# checked whether the remaninder is 0 or not : even condition\n",
        "even_numbers = [num for num in range(2, random_number + 1) if num % 2 == 0]\n",
        "print(\"List of even numbers up to the random number:\", even_numbers)\n",
        "\n",
        "odd_numbers = [num for num in range(1, random_number + 1) if num % 2 != 0]\n",
        "print(\"List of odd numbers up to the random number:\", odd_numbers)\n",
        "\n",
        "prime_numbers = [num for num in range(2, random_number + 1) if is_prime(num)]\n",
        "print(\"List of prime numbers up to the random number:\", prime_numbers)\n"
      ],
      "metadata": {
        "colab": {
          "base_uri": "https://localhost:8080/"
        },
        "id": "Bo9mFmLfXfxi",
        "outputId": "73a713bf-55d9-4ebd-9c4f-ebfbb1d36228"
      },
      "execution_count": 9,
      "outputs": [
        {
          "output_type": "stream",
          "name": "stdout",
          "text": [
            "The random number: 52\n",
            "List of even numbers up to the random number: [2, 4, 6, 8, 10, 12, 14, 16, 18, 20, 22, 24, 26, 28, 30, 32, 34, 36, 38, 40, 42, 44, 46, 48, 50, 52]\n",
            "List of odd numbers up to the random number: [1, 3, 5, 7, 9, 11, 13, 15, 17, 19, 21, 23, 25, 27, 29, 31, 33, 35, 37, 39, 41, 43, 45, 47, 49, 51]\n",
            "List of prime numbers up to the random number: [2, 3, 5, 7, 11, 13, 17, 19, 23, 29, 31, 37, 41, 43, 47]\n"
          ]
        }
      ]
    },
    {
      "cell_type": "code",
      "source": [
        "#Q6 DIGIT-PLACE MAPPING\n",
        "import random as rn  # random library to have random inputs\n",
        "\n",
        "def digit_place_values(number):  # function to assign values -> to it's place\n",
        "    place_values = {\n",
        "        1: \"Ones\",\n",
        "        10: \"Tens\",\n",
        "        100: \"Hundreds\",\n",
        "        1000: \"Thousands\"\n",
        "    }\n",
        "\n",
        "    digit_place_mapping = {}\n",
        "    div = 1000  #DIVISOR\n",
        "\n",
        "    for place_value, name in place_values.items():\n",
        "        digit = number // div  # number divided by the divisor to get the digit\n",
        "        digit_place_mapping[digit] = name\n",
        "        number %= div #number is updated by extraction of last digit\n",
        "        div //= 10  #divisor is updated by 10\n",
        "\n",
        "    return digit_place_mapping\n",
        "\n",
        "random_number = rn.randint(1000, 9999)\n",
        "print(\"Input:\", random_number)\n",
        "\n",
        "digit_place_mapping = digit_place_values(random_number)\n",
        "print(\"Output:\", digit_place_mapping)\n"
      ],
      "metadata": {
        "colab": {
          "base_uri": "https://localhost:8080/"
        },
        "id": "xp3vR5S5bhOF",
        "outputId": "9b0814fd-2b28-4c0f-85ce-4d9f69cf0e59"
      },
      "execution_count": 10,
      "outputs": [
        {
          "output_type": "stream",
          "name": "stdout",
          "text": [
            "Input: 3021\n",
            "Output: {3: 'Ones', 0: 'Tens', 2: 'Hundreds', 1: 'Thousands'}\n"
          ]
        }
      ]
    },
    {
      "cell_type": "code",
      "source": [],
      "metadata": {
        "id": "jOFftL6obp9J"
      },
      "execution_count": null,
      "outputs": []
    },
    {
      "cell_type": "markdown",
      "source": [],
      "metadata": {
        "id": "JLsdJD8jUPye"
      }
    },
    {
      "cell_type": "markdown",
      "source": [],
      "metadata": {
        "id": "threUOQmLdNO"
      }
    }
  ]
}